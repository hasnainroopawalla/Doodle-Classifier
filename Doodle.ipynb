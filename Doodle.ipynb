{
  "nbformat": 4,
  "nbformat_minor": 0,
  "metadata": {
    "colab": {
      "name": "Doodle.ipynb",
      "provenance": [],
      "collapsed_sections": [],
      "machine_shape": "hm",
      "include_colab_link": true
    },
    "kernelspec": {
      "name": "python3",
      "display_name": "Python 3"
    },
    "accelerator": "GPU"
  },
  "cells": [
    {
      "cell_type": "markdown",
      "metadata": {
        "id": "view-in-github",
        "colab_type": "text"
      },
      "source": [
        "<a href=\"https://colab.research.google.com/github/hasnainroopawalla/Doodle-Classifier/blob/master/Doodle.ipynb\" target=\"_parent\"><img src=\"https://colab.research.google.com/assets/colab-badge.svg\" alt=\"Open In Colab\"/></a>"
      ]
    },
    {
      "cell_type": "markdown",
      "metadata": {
        "id": "WVw_3p-alvaJ",
        "colab_type": "text"
      },
      "source": [
        "**Download the 'classes.txt' file containing all 345 classes\n",
        "OR\n",
        "Download the '100_classes.txt' containing 100 classes**"
      ]
    },
    {
      "cell_type": "code",
      "metadata": {
        "id": "X2Q1QFIYDJWE",
        "colab_type": "code",
        "outputId": "233e35e6-461e-49d4-bda7-044a556be757",
        "colab": {
          "base_uri": "https://localhost:8080/",
          "height": 204
        }
      },
      "source": [
        "#!wget 'https://raw.githubusercontent.com/hasnainroopawalla/Doodle-Classifier/master/all_classes.txt'\n",
        "!wget 'https://raw.githubusercontent.com/hasnainroopawalla/Doodle-Classifier/master/100_classes.txt'"
      ],
      "execution_count": 1,
      "outputs": [
        {
          "output_type": "stream",
          "text": [
            "--2020-01-13 17:20:17--  https://raw.githubusercontent.com/hasnainroopawalla/Doodle-Classifier/master/100_classes.txt\n",
            "Resolving raw.githubusercontent.com (raw.githubusercontent.com)... 151.101.0.133, 151.101.64.133, 151.101.128.133, ...\n",
            "Connecting to raw.githubusercontent.com (raw.githubusercontent.com)|151.101.0.133|:443... connected.\n",
            "HTTP request sent, awaiting response... 200 OK\n",
            "Length: 760 [text/plain]\n",
            "Saving to: ‘100_classes.txt’\n",
            "\n",
            "100_classes.txt     100%[===================>]     760  --.-KB/s    in 0s      \n",
            "\n",
            "2020-01-13 17:20:22 (210 MB/s) - ‘100_classes.txt’ saved [760/760]\n",
            "\n"
          ],
          "name": "stdout"
        }
      ]
    },
    {
      "cell_type": "code",
      "metadata": {
        "id": "8IAKpXQNDkMB",
        "colab_type": "code",
        "outputId": "d708bbc4-1ccf-4523-90d3-e2bbfc396454",
        "colab": {
          "base_uri": "https://localhost:8080/",
          "height": 54
        }
      },
      "source": [
        "#f = open(\"all_classes.txt\",\"r\")\n",
        "f = open(\"100_classes.txt\",\"r\")\n",
        "classes = f.readlines()\n",
        "f.close()\n",
        "classes = [c.replace('\\n','').replace(' ','_') for c in classes]\n",
        "print(classes)"
      ],
      "execution_count": 2,
      "outputs": [
        {
          "output_type": "stream",
          "text": [
            "['drums', 'sun', 'laptop', 'anvil', 'baseball_bat', 'ladder', 'eyeglasses', 'grapes', 'book', 'dumbbell', 'traffic_light', 'wristwatch', 'wheel', 'shovel', 'bread', 'table', 'tennis_racquet', 'cloud', 'chair', 'headphones', 'face', 'eye', 'airplane', 'snake', 'lollipop', 'power_outlet', 'pants', 'mushroom', 'star', 'sword', 'clock', 'hot_dog', 'syringe', 'stop_sign', 'mountain', 'smiley_face', 'apple', 'bed', 'shorts', 'broom', 'diving_board', 'flower', 'spider', 'cell_phone', 'car', 'camera', 'tree', 'square', 'moon', 'radio', 'hat', 'pizza', 'axe', 'door', 'tent', 'umbrella', 'line', 'cup', 'fan', 'triangle', 'basketball', 'pillow', 'scissors', 't-shirt', 'tooth', 'alarm_clock', 'paper_clip', 'spoon', 'microphone', 'candle', 'pencil', 'envelope', 'saw', 'frying_pan', 'screwdriver', 'helmet', 'bridge', 'light_bulb', 'ceiling_fan', 'key', 'donut', 'bird', 'circle', 'beard', 'coffee_cup', 'butterfly', 'bench', 'rifle', 'cat', 'sock', 'ice_cream', 'moustache', 'suitcase', 'hammer', 'rainbow', 'knife', 'cookie', 'baseball', 'lightning', 'bicycle']\n"
          ],
          "name": "stdout"
        }
      ]
    },
    {
      "cell_type": "markdown",
      "metadata": {
        "id": "AhFbpgqRmHEO",
        "colab_type": "text"
      },
      "source": [
        "**Create a folder called 'data' to store all dataset images**"
      ]
    },
    {
      "cell_type": "code",
      "metadata": {
        "id": "rakGyTcdDxcb",
        "colab_type": "code",
        "colab": {}
      },
      "source": [
        "!mkdir data"
      ],
      "execution_count": 0,
      "outputs": []
    },
    {
      "cell_type": "markdown",
      "metadata": {
        "id": "WMDXNrnLnw2A",
        "colab_type": "text"
      },
      "source": [
        "**Download images for 345 (or 100) classes and store it in the 'data' folder**"
      ]
    },
    {
      "cell_type": "code",
      "metadata": {
        "id": "9aQgqKd2D0Hj",
        "colab_type": "code",
        "outputId": "17518388-8412-419b-b4a4-33c10b01982b",
        "colab": {
          "base_uri": "https://localhost:8080/",
          "height": 1000
        }
      },
      "source": [
        "import urllib.request\n",
        "base = 'https://storage.googleapis.com/quickdraw_dataset/full/numpy_bitmap/'\n",
        "class_num = 0\n",
        "for c in classes:\n",
        "  class_num +=1\n",
        "  print(class_num,c)\n",
        "  cls_url = c.replace('_', '%20')\n",
        "  path = base+cls_url+'.npy'\n",
        "  urllib.request.urlretrieve(path, 'data/'+c+'.npy')"
      ],
      "execution_count": 4,
      "outputs": [
        {
          "output_type": "stream",
          "text": [
            "1 drums\n",
            "2 sun\n",
            "3 laptop\n",
            "4 anvil\n",
            "5 baseball_bat\n",
            "6 ladder\n",
            "7 eyeglasses\n",
            "8 grapes\n",
            "9 book\n",
            "10 dumbbell\n",
            "11 traffic_light\n",
            "12 wristwatch\n",
            "13 wheel\n",
            "14 shovel\n",
            "15 bread\n",
            "16 table\n",
            "17 tennis_racquet\n",
            "18 cloud\n",
            "19 chair\n",
            "20 headphones\n",
            "21 face\n",
            "22 eye\n",
            "23 airplane\n",
            "24 snake\n",
            "25 lollipop\n",
            "26 power_outlet\n",
            "27 pants\n",
            "28 mushroom\n",
            "29 star\n",
            "30 sword\n",
            "31 clock\n",
            "32 hot_dog\n",
            "33 syringe\n",
            "34 stop_sign\n",
            "35 mountain\n",
            "36 smiley_face\n",
            "37 apple\n",
            "38 bed\n",
            "39 shorts\n",
            "40 broom\n",
            "41 diving_board\n",
            "42 flower\n",
            "43 spider\n",
            "44 cell_phone\n",
            "45 car\n",
            "46 camera\n",
            "47 tree\n",
            "48 square\n",
            "49 moon\n",
            "50 radio\n",
            "51 hat\n",
            "52 pizza\n",
            "53 axe\n",
            "54 door\n",
            "55 tent\n",
            "56 umbrella\n",
            "57 line\n",
            "58 cup\n",
            "59 fan\n",
            "60 triangle\n",
            "61 basketball\n",
            "62 pillow\n",
            "63 scissors\n",
            "64 t-shirt\n",
            "65 tooth\n",
            "66 alarm_clock\n",
            "67 paper_clip\n",
            "68 spoon\n",
            "69 microphone\n",
            "70 candle\n",
            "71 pencil\n",
            "72 envelope\n",
            "73 saw\n",
            "74 frying_pan\n",
            "75 screwdriver\n",
            "76 helmet\n",
            "77 bridge\n",
            "78 light_bulb\n",
            "79 ceiling_fan\n",
            "80 key\n",
            "81 donut\n",
            "82 bird\n",
            "83 circle\n",
            "84 beard\n",
            "85 coffee_cup\n",
            "86 butterfly\n",
            "87 bench\n",
            "88 rifle\n",
            "89 cat\n",
            "90 sock\n",
            "91 ice_cream\n",
            "92 moustache\n",
            "93 suitcase\n",
            "94 hammer\n",
            "95 rainbow\n",
            "96 knife\n",
            "97 cookie\n",
            "98 baseball\n",
            "99 lightning\n",
            "100 bicycle\n"
          ],
          "name": "stdout"
        }
      ]
    },
    {
      "cell_type": "markdown",
      "metadata": {
        "id": "syYT7OA2nsdg",
        "colab_type": "text"
      },
      "source": [
        "**Import all necessary packages**"
      ]
    },
    {
      "cell_type": "code",
      "metadata": {
        "id": "MKBk5_uRFGdU",
        "colab_type": "code",
        "colab": {}
      },
      "source": [
        "import os\n",
        "import glob\n",
        "import numpy as np\n",
        "from tensorflow.keras import layers\n",
        "from tensorflow import keras \n",
        "import tensorflow as tf\n",
        "import matplotlib.pyplot as plt\n",
        "from random import randint\n",
        "import tensorflow as tf\n",
        "from PIL import Image, ImageOps\n",
        "import cv2\n",
        "from keras.preprocessing.image import img_to_array\n",
        "from keras.preprocessing.image import load_img"
      ],
      "execution_count": 0,
      "outputs": []
    },
    {
      "cell_type": "markdown",
      "metadata": {
        "id": "cwqAP2aWq-DH",
        "colab_type": "text"
      },
      "source": [
        "**Select 4000 (or any number) random images for each class and split data into train and test**"
      ]
    },
    {
      "cell_type": "code",
      "metadata": {
        "id": "3FC8QuIMFH2p",
        "colab_type": "code",
        "colab": {}
      },
      "source": [
        "def load_data(root, vfold_ratio=0.2, max_items_per_class = 16000):\n",
        "    all_files = glob.glob(os.path.join(root, '*.npy'))\n",
        "\n",
        "    #initialize variables \n",
        "    x = np.empty([0, 784])\n",
        "    y = np.empty([0])\n",
        "    class_names = []\n",
        "\n",
        "    #load each data file \n",
        "    for idx, file in enumerate(all_files):\n",
        "        data = np.load(file)\n",
        "        data = data[0: max_items_per_class, :]\n",
        "        labels = np.full(data.shape[0], idx)\n",
        "\n",
        "        x = np.concatenate((x, data), axis=0)\n",
        "        y = np.append(y, labels)\n",
        "\n",
        "        class_name, ext = os.path.splitext(os.path.basename(file))\n",
        "        class_names.append(class_name)\n",
        "        print(len(class_names))\n",
        "\n",
        "    data = None\n",
        "    labels = None\n",
        "    \n",
        "    ## Randomize dataset \n",
        "    permutation = np.random.permutation(y.shape[0])\n",
        "    x = x[permutation, :]\n",
        "    y = y[permutation]\n",
        "\n",
        "    #Split dataset into train and test\n",
        "    vfold_size = int(x.shape[0]/100*(vfold_ratio*100))\n",
        "\n",
        "    x_test = x[0:vfold_size, :]\n",
        "    y_test = y[0:vfold_size]\n",
        "\n",
        "    x_train = x[vfold_size:x.shape[0], :]\n",
        "    y_train = y[vfold_size:y.shape[0]]\n",
        "    return x_train, y_train, x_test, y_test, class_names"
      ],
      "execution_count": 0,
      "outputs": []
    },
    {
      "cell_type": "code",
      "metadata": {
        "id": "pSy1Fzs_FQd7",
        "colab_type": "code",
        "colab": {}
      },
      "source": [
        "x_train, y_train, x_test, y_test, class_names = load_data('data')\n",
        "num_classes = len(class_names)\n",
        "image_size = 28"
      ],
      "execution_count": 0,
      "outputs": []
    },
    {
      "cell_type": "markdown",
      "metadata": {
        "id": "vn9dvz_VrK51",
        "colab_type": "text"
      },
      "source": [
        "**Print number of classes and train images**"
      ]
    },
    {
      "cell_type": "code",
      "metadata": {
        "id": "iN0vgz3gGiwV",
        "colab_type": "code",
        "outputId": "21c8d361-175a-42db-de3d-caf80c51042a",
        "colab": {
          "base_uri": "https://localhost:8080/",
          "height": 51
        }
      },
      "source": [
        "print('Number of Classes:',num_classes)\n",
        "print('Train Images:',len(x_train))"
      ],
      "execution_count": 18,
      "outputs": [
        {
          "output_type": "stream",
          "text": [
            "Number of Classes: 100\n",
            "Train Images: 1280000\n"
          ],
          "name": "stdout"
        }
      ]
    },
    {
      "cell_type": "markdown",
      "metadata": {
        "id": "NjuKDVNwrtV5",
        "colab_type": "text"
      },
      "source": [
        "**Print random image (and its class) from training set**"
      ]
    },
    {
      "cell_type": "code",
      "metadata": {
        "id": "kc_0-oiWGxDg",
        "colab_type": "code",
        "outputId": "9b135fbc-63a6-4294-b2b0-0207eb600b50",
        "colab": {
          "base_uri": "https://localhost:8080/",
          "height": 282
        }
      },
      "source": [
        "%matplotlib inline  \n",
        "idx = randint(0, len(x_train))\n",
        "plt.imshow(x_train[idx].reshape(28,28)) \n",
        "print(class_names[int(y_train[idx].item())])"
      ],
      "execution_count": 22,
      "outputs": [
        {
          "output_type": "stream",
          "text": [
            "donut\n"
          ],
          "name": "stdout"
        },
        {
          "output_type": "display_data",
          "data": {
            "image/png": "[encoded data removed]",
            "text/plain": [
              "<Figure size 432x288 with 1 Axes>"
            ]
          },
          "metadata": {
            "tags": []
          }
        }
      ]
    },
    {
      "cell_type": "markdown",
      "metadata": {
        "id": "RdXwziDSr6ip",
        "colab_type": "text"
      },
      "source": [
        "**Reshape and normalize each train and test image to 28x28 if not already**"
      ]
    },
    {
      "cell_type": "code",
      "metadata": {
        "id": "N8TYoWVTG4WY",
        "colab_type": "code",
        "outputId": "19a4cce1-cb23-4b61-f5ec-7268599f9c47",
        "colab": {
          "base_uri": "https://localhost:8080/",
          "height": 34
        }
      },
      "source": [
        "image_size = 28\n",
        "x_train = x_train.reshape(x_train.shape[0], image_size, image_size, 1).astype('float32')\n",
        "x_test = x_test.reshape(x_test.shape[0], image_size, image_size, 1).astype('float32')\n",
        "\n",
        "x_train /= 255.0\n",
        "x_test /= 255.0\n",
        "\n",
        "# Convert class vectors to class matrices\n",
        "y_train = keras.utils.to_categorical(y_train, num_classes)\n",
        "y_test = keras.utils.to_categorical(y_test, num_classes)\n",
        "print(x_train.shape[1:])"
      ],
      "execution_count": 23,
      "outputs": [
        {
          "output_type": "stream",
          "text": [
            "(28, 28, 1)\n"
          ],
          "name": "stdout"
        }
      ]
    },
    {
      "cell_type": "markdown",
      "metadata": {
        "id": "WXqwoZVqsBn7",
        "colab_type": "text"
      },
      "source": [
        "**Define Model Architecture**"
      ]
    },
    {
      "cell_type": "code",
      "metadata": {
        "id": "PCPYXLZ_G6V2",
        "colab_type": "code",
        "outputId": "b088900e-cde0-409a-eadd-622f81625ef3",
        "colab": {
          "base_uri": "https://localhost:8080/",
          "height": 476
        }
      },
      "source": [
        "model = keras.Sequential()\n",
        "model.add(layers.Convolution2D(16, (3, 3),\n",
        "                        padding='same',\n",
        "                        input_shape=x_train.shape[1:], activation='relu'))\n",
        "model.add(layers.MaxPooling2D(pool_size=(2, 2)))\n",
        "model.add(layers.Convolution2D(32, (3, 3), padding='same', activation= 'relu'))\n",
        "model.add(layers.MaxPooling2D(pool_size=(2, 2)))\n",
        "model.add(layers.Convolution2D(64, (3, 3), padding='same', activation= 'relu'))\n",
        "model.add(layers.MaxPooling2D(pool_size =(2,2)))\n",
        "model.add(layers.Flatten())\n",
        "model.add(layers.Dense(128, activation='relu'))\n",
        "model.add(layers.Dense(100, activation='softmax'))  # The number here should be equal to number of classes\n",
        "\n",
        "opt = tf.keras.optimizers.Adam(lr=0.001)\n",
        "model.compile(loss='categorical_crossentropy',\n",
        "              optimizer=opt,\n",
        "              metrics=['top_k_categorical_accuracy'])\n",
        "print(model.summary())"
      ],
      "execution_count": 24,
      "outputs": [
        {
          "output_type": "stream",
          "text": [
            "Model: \"sequential_1\"\n",
            "_________________________________________________________________\n",
            "Layer (type)                 Output Shape              Param #   \n",
            "=================================================================\n",
            "conv2d_3 (Conv2D)            (None, 28, 28, 16)        160       \n",
            "_________________________________________________________________\n",
            "max_pooling2d_3 (MaxPooling2 (None, 14, 14, 16)        0         \n",
            "_________________________________________________________________\n",
            "conv2d_4 (Conv2D)            (None, 14, 14, 32)        4640      \n",
            "_________________________________________________________________\n",
            "max_pooling2d_4 (MaxPooling2 (None, 7, 7, 32)          0         \n",
            "_________________________________________________________________\n",
            "conv2d_5 (Conv2D)            (None, 7, 7, 64)          18496     \n",
            "_________________________________________________________________\n",
            "max_pooling2d_5 (MaxPooling2 (None, 3, 3, 64)          0         \n",
            "_________________________________________________________________\n",
            "flatten_1 (Flatten)          (None, 576)               0         \n",
            "_________________________________________________________________\n",
            "dense_2 (Dense)              (None, 128)               73856     \n",
            "_________________________________________________________________\n",
            "dense_3 (Dense)              (None, 100)               12900     \n",
            "=================================================================\n",
            "Total params: 110,052\n",
            "Trainable params: 110,052\n",
            "Non-trainable params: 0\n",
            "_________________________________________________________________\n",
            "None\n"
          ],
          "name": "stdout"
        }
      ]
    },
    {
      "cell_type": "markdown",
      "metadata": {
        "id": "Gdotnt7vsJCf",
        "colab_type": "text"
      },
      "source": [
        "**Train the model**"
      ]
    },
    {
      "cell_type": "code",
      "metadata": {
        "id": "lIIFyYZbG81y",
        "colab_type": "code",
        "outputId": "5d88425d-1b5e-4440-aaf0-5c2370cfe502",
        "colab": {
          "base_uri": "https://localhost:8080/",
          "height": 391
        }
      },
      "source": [
        "model.fit(x = x_train, y = y_train, validation_split=0.1, batch_size = 256, verbose=1, epochs=10)"
      ],
      "execution_count": 25,
      "outputs": [
        {
          "output_type": "stream",
          "text": [
            "Train on 1152000 samples, validate on 128000 samples\n",
            "Epoch 1/10\n",
            "1152000/1152000 [==============================] - 24s 21us/sample - loss: 1.3460 - top_k_categorical_accuracy: 0.8713 - val_loss: 0.9998 - val_top_k_categorical_accuracy: 0.9183\n",
            "Epoch 2/10\n",
            "1152000/1152000 [==============================] - 23s 20us/sample - loss: 0.9162 - top_k_categorical_accuracy: 0.9273 - val_loss: 0.8854 - val_top_k_categorical_accuracy: 0.9292\n",
            "Epoch 3/10\n",
            "1152000/1152000 [==============================] - 23s 20us/sample - loss: 0.8294 - top_k_categorical_accuracy: 0.9352 - val_loss: 0.8247 - val_top_k_categorical_accuracy: 0.9361\n",
            "Epoch 4/10\n",
            "1152000/1152000 [==============================] - 24s 21us/sample - loss: 0.7846 - top_k_categorical_accuracy: 0.9395 - val_loss: 0.7927 - val_top_k_categorical_accuracy: 0.9381\n",
            "Epoch 5/10\n",
            "1152000/1152000 [==============================] - 23s 20us/sample - loss: 0.7553 - top_k_categorical_accuracy: 0.9420 - val_loss: 0.7777 - val_top_k_categorical_accuracy: 0.9396\n",
            "Epoch 6/10\n",
            "1152000/1152000 [==============================] - 23s 20us/sample - loss: 0.7335 - top_k_categorical_accuracy: 0.9441 - val_loss: 0.7520 - val_top_k_categorical_accuracy: 0.9410\n",
            "Epoch 7/10\n",
            "1152000/1152000 [==============================] - 23s 20us/sample - loss: 0.7175 - top_k_categorical_accuracy: 0.9453 - val_loss: 0.7468 - val_top_k_categorical_accuracy: 0.9419\n",
            "Epoch 8/10\n",
            "1152000/1152000 [==============================] - 23s 20us/sample - loss: 0.7049 - top_k_categorical_accuracy: 0.9465 - val_loss: 0.7409 - val_top_k_categorical_accuracy: 0.9427\n",
            "Epoch 9/10\n",
            "1152000/1152000 [==============================] - 23s 20us/sample - loss: 0.6951 - top_k_categorical_accuracy: 0.9473 - val_loss: 0.7416 - val_top_k_categorical_accuracy: 0.9423\n",
            "Epoch 10/10\n",
            "1152000/1152000 [==============================] - 23s 20us/sample - loss: 0.6873 - top_k_categorical_accuracy: 0.9480 - val_loss: 0.7402 - val_top_k_categorical_accuracy: 0.9417\n"
          ],
          "name": "stdout"
        },
        {
          "output_type": "execute_result",
          "data": {
            "text/plain": [
              "<tensorflow.python.keras.callbacks.History at 0x7fdc9c5914a8>"
            ]
          },
          "metadata": {
            "tags": []
          },
          "execution_count": 25
        }
      ]
    },
    {
      "cell_type": "code",
      "metadata": {
        "id": "tGz1C7ILHMG2",
        "colab_type": "code",
        "outputId": "ca4a4a26-65ca-460d-efa9-5f05a19c425e",
        "colab": {
          "base_uri": "https://localhost:8080/",
          "height": 34
        }
      },
      "source": [
        "score = model.evaluate(x_test, y_test, verbose=0)\n",
        "print('Test accuarcy: {:0.2f}%'.format(score[1] * 100))"
      ],
      "execution_count": 26,
      "outputs": [
        {
          "output_type": "stream",
          "text": [
            "Test accuarcy: 94.29%\n"
          ],
          "name": "stdout"
        }
      ]
    },
    {
      "cell_type": "markdown",
      "metadata": {
        "id": "t9kBq83g9WNT",
        "colab_type": "text"
      },
      "source": [
        "**Use random test images to test the model**"
      ]
    },
    {
      "cell_type": "code",
      "metadata": {
        "id": "hrKVB4dyHTi_",
        "colab_type": "code",
        "outputId": "44592478-fbe1-46e6-9b20-ef013e6da1be",
        "colab": {
          "base_uri": "https://localhost:8080/",
          "height": 282
        }
      },
      "source": [
        "import matplotlib.pyplot as plt\n",
        "from random import randint\n",
        "%matplotlib inline  \n",
        "idx = randint(0, len(x_test))\n",
        "img = x_test[idx]\n",
        "plt.imshow(img.squeeze(),cmap='Greys_r') \n",
        "pred = model.predict(np.expand_dims(img, axis=0))[0]\n",
        "ind = (-pred).argsort()[:5]\n",
        "latex = [class_names[x] for x in ind]\n",
        "print(latex)"
      ],
      "execution_count": 34,
      "outputs": [
        {
          "output_type": "stream",
          "text": [
            "['sword', 'knife', 'airplane', 'baseball_bat', 'pencil']\n"
          ],
          "name": "stdout"
        },
        {
          "output_type": "display_data",
          "data": {
            "image/png": "[encoded data removed]",
            "text/plain": [
              "<Figure size 432x288 with 1 Axes>"
            ]
          },
          "metadata": {
            "tags": []
          }
        }
      ]
    },
    {
      "cell_type": "code",
      "metadata": {
        "id": "wnfDstQYHYKO",
        "colab_type": "code",
        "colab": {}
      },
      "source": [
        "with open('class_names.txt', 'w') as file_handler:\n",
        "    for item in class_names:\n",
        "        file_handler.write(\"{}\\n\".format(item))"
      ],
      "execution_count": 0,
      "outputs": []
    },
    {
      "cell_type": "code",
      "metadata": {
        "id": "u0CrQiDcHrvY",
        "colab_type": "code",
        "colab": {}
      },
      "source": [
        "model.save('keras.h5')"
      ],
      "execution_count": 0,
      "outputs": []
    },
    {
      "cell_type": "markdown",
      "metadata": {
        "id": "l_8LQwlHCYsz",
        "colab_type": "text"
      },
      "source": [
        "### Prediction on Input image"
      ]
    },
    {
      "cell_type": "markdown",
      "metadata": {
        "id": "K5qnIXp6-Lki",
        "colab_type": "text"
      },
      "source": [
        "**Load the Model for predictions**"
      ]
    },
    {
      "cell_type": "code",
      "metadata": {
        "id": "6ybfXWETWzLv",
        "colab_type": "code",
        "colab": {
          "base_uri": "https://localhost:8080/",
          "height": 139
        },
        "outputId": "8fd27544-6f7b-4abc-fc68-33d1dc3a3617"
      },
      "source": [
        "model = tf.keras.models.load_model('keras.h5')"
      ],
      "execution_count": 37,
      "outputs": [
        {
          "output_type": "stream",
          "text": [
            "WARNING:tensorflow:From /usr/local/lib/python3.6/dist-packages/tensorflow_core/python/ops/init_ops.py:97: calling GlorotUniform.__init__ (from tensorflow.python.ops.init_ops) with dtype is deprecated and will be removed in a future version.\n",
            "Instructions for updating:\n",
            "Call initializer instance with the dtype argument instead of passing it to the constructor\n",
            "WARNING:tensorflow:From /usr/local/lib/python3.6/dist-packages/tensorflow_core/python/ops/init_ops.py:97: calling Zeros.__init__ (from tensorflow.python.ops.init_ops) with dtype is deprecated and will be removed in a future version.\n",
            "Instructions for updating:\n",
            "Call initializer instance with the dtype argument instead of passing it to the constructor\n"
          ],
          "name": "stdout"
        }
      ]
    },
    {
      "cell_type": "markdown",
      "metadata": {
        "id": "6MzmmBsB-OXh",
        "colab_type": "text"
      },
      "source": [
        "**Make predictions on any input image**"
      ]
    },
    {
      "cell_type": "code",
      "metadata": {
        "id": "xCxKthnCJTcP",
        "colab_type": "code",
        "outputId": "dfa0b88e-b55b-4f34-8782-d5c295bd2d57",
        "colab": {
          "base_uri": "https://localhost:8080/",
          "height": 282
        }
      },
      "source": [
        "img = load_img('b.png', target_size=(28,28))\n",
        "img = ImageOps.invert(img)\n",
        "plt.imshow(img) \n",
        "img_tensor = img_to_array(img)\n",
        "\n",
        "plt.imshow(img_tensor/255)\n",
        "\n",
        "img_tensor = cv2.cvtColor(img_tensor, cv2.COLOR_BGR2GRAY) # Convert  channel to 1 (grayscale)\n",
        "img_tensor = np.expand_dims(img_tensor, axis=2) # Add last channel as 1  (28,28) to (28,28,1)\n",
        "img_tensor = np.expand_dims(img_tensor, axis=0) # Add 1 more channel at start to specify number of input images (1,28,28,1)\n",
        "img_tensor /= 255. \n",
        "\n",
        "#print(img_tensor.shap\n",
        "\n",
        "pred = model.predict(img_tensor)[0]\n",
        "ind = (-pred).argsort()[:5]\n",
        "latex = [class_names[x] for x in ind]\n",
        "print(latex)\n"
      ],
      "execution_count": 39,
      "outputs": [
        {
          "output_type": "stream",
          "text": [
            "['sun', 'light_bulb', 'lightning', 'spider', 'line']\n"
          ],
          "name": "stdout"
        },
        {
          "output_type": "display_data",
          "data": {
            "image/png": "[encoded data removed]",
            "text/plain": [
              "<Figure size 432x288 with 1 Axes>"
            ]
          },
          "metadata": {
            "tags": []
          }
        }
      ]
    }
  ]
}