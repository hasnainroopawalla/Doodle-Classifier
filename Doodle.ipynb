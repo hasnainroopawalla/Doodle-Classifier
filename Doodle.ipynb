{
  "nbformat": 4,
  "nbformat_minor": 0,
  "metadata": {
    "colab": {
      "name": "Doodle.ipynb",
      "provenance": [],
      "collapsed_sections": [],
      "toc_visible": true,
      "machine_shape": "hm",
      "include_colab_link": true
    },
    "kernelspec": {
      "name": "python3",
      "display_name": "Python 3"
    },
    "accelerator": "GPU"
  },
  "cells": [
    {
      "cell_type": "markdown",
      "metadata": {
        "id": "view-in-github",
        "colab_type": "text"
      },
      "source": [
        "<a href=\"https://colab.research.google.com/github/hasnainroopawalla/Doodle-Classifier/blob/master/Doodle.ipynb\" target=\"_parent\"><img src=\"https://colab.research.google.com/assets/colab-badge.svg\" alt=\"Open In Colab\"/></a>"
      ]
    },
    {
      "cell_type": "markdown",
      "metadata": {
        "id": "WVw_3p-alvaJ",
        "colab_type": "text"
      },
      "source": [
        "**Download the 'classes.txt' file containing all 345 classes\n",
        "OR\n",
        "Download the '100_classes.txt' containing 100 classes**"
      ]
    },
    {
      "cell_type": "code",
      "metadata": {
        "id": "X2Q1QFIYDJWE",
        "colab_type": "code",
        "outputId": "233e35e6-461e-49d4-bda7-044a556be757",
        "colab": {
          "base_uri": "https://localhost:8080/",
          "height": 204
        }
      },
      "source": [
        "#!wget 'https://raw.githubusercontent.com/hasnainroopawalla/Doodle-Classifier/master/all_classes.txt'\n",
        "!wget 'https://raw.githubusercontent.com/hasnainroopawalla/Doodle-Classifier/master/100_classes.txt'"
      ],
      "execution_count": 0,
      "outputs": [
        {
          "output_type": "stream",
          "text": [
            "--2020-01-13 17:20:17--  https://raw.githubusercontent.com/hasnainroopawalla/Doodle-Classifier/master/100_classes.txt\n",
            "Resolving raw.githubusercontent.com (raw.githubusercontent.com)... 151.101.0.133, 151.101.64.133, 151.101.128.133, ...\n",
            "Connecting to raw.githubusercontent.com (raw.githubusercontent.com)|151.101.0.133|:443... connected.\n",
            "HTTP request sent, awaiting response... 200 OK\n",
            "Length: 760 [text/plain]\n",
            "Saving to: ‘100_classes.txt’\n",
            "\n",
            "100_classes.txt     100%[===================>]     760  --.-KB/s    in 0s      \n",
            "\n",
            "2020-01-13 17:20:22 (210 MB/s) - ‘100_classes.txt’ saved [760/760]\n",
            "\n"
          ],
          "name": "stdout"
        }
      ]
    },
    {
      "cell_type": "code",
      "metadata": {
        "id": "8IAKpXQNDkMB",
        "colab_type": "code",
        "outputId": "5f8cfbf8-5d5b-48a8-946d-b370b3f869ef",
        "colab": {
          "base_uri": "https://localhost:8080/",
          "height": 54
        }
      },
      "source": [
        "#f = open(\"all_classes.txt\",\"r\")\n",
        "f = open(\"100_classes.txt\",\"r\")\n",
        "classes = f.readlines()\n",
        "f.close()\n",
        "classes = [c.replace('\\n','').replace(' ','_') for c in classes]\n",
        "print(classes)"
      ],
      "execution_count": 0,
      "outputs": [
        {
          "output_type": "stream",
          "text": [
            "['saw', 'coffee_cup', 'power_outlet', 'microphone', 'triangle', 'cat', 'paper_clip', 'drums', 'diving_board', 'sun', 'scissors', 'butterfly', 'ladder', 'beard', 'helmet', 'bicycle', 'face', 'eye', 'syringe', 'bed', 'smiley_face', 'sword', 'door', 'spider', 'bridge', 'spoon', 'fan', 'cell_phone', 'donut', 'rifle', 'baseball_bat', 'camera', 'baseball', 'screwdriver', 'table', 'anvil', 'frying_pan', 'tree', 'chair', 'tooth', 'rainbow', 'bench', 'star', 'ceiling_fan', 'headphones', 'moon', 'key', 'eyeglasses', 'lollipop', 'cookie', 'hat', 'shorts', 'grapes', 'pencil', 'hot_dog', 'bird', 'basketball', 'hammer', 'radio', 't-shirt', 'pizza', 'shovel', 'flower', 'clock', 'wristwatch', 'tent', 'ice_cream', 'airplane', 'mushroom', 'wheel', 'bread', 'mountain', 'axe', 'stop_sign', 'lightning', 'car', 'laptop', 'snake', 'dumbbell', 'sock', 'cup', 'moustache', 'book', 'traffic_light', 'umbrella', 'line', 'suitcase', 'circle', 'candle', 'pants', 'tennis_racquet', 'alarm_clock', 'square', 'pillow', 'cloud', 'broom', 'knife', 'light_bulb', 'apple', 'envelope']\n"
          ],
          "name": "stdout"
        }
      ]
    },
    {
      "cell_type": "markdown",
      "metadata": {
        "id": "AhFbpgqRmHEO",
        "colab_type": "text"
      },
      "source": [
        "**Create a folder called 'data' to store all dataset images**"
      ]
    },
    {
      "cell_type": "code",
      "metadata": {
        "id": "rakGyTcdDxcb",
        "colab_type": "code",
        "colab": {}
      },
      "source": [
        "!mkdir data"
      ],
      "execution_count": 0,
      "outputs": []
    },
    {
      "cell_type": "markdown",
      "metadata": {
        "id": "WMDXNrnLnw2A",
        "colab_type": "text"
      },
      "source": [
        "**Download images for 345 (or 100) classes and store it in the 'data' folder**"
      ]
    },
    {
      "cell_type": "code",
      "metadata": {
        "id": "9aQgqKd2D0Hj",
        "colab_type": "code",
        "colab": {}
      },
      "source": [
        "import urllib.request\n",
        "base = 'https://storage.googleapis.com/quickdraw_dataset/full/numpy_bitmap/'\n",
        "class_num = 0\n",
        "for c in classes:\n",
        "  class_num +=1\n",
        "  print(class_num,c)\n",
        "  cls_url = c.replace('_', '%20')\n",
        "  path = base+cls_url+'.npy'\n",
        "  urllib.request.urlretrieve(path, 'data/'+c+'.npy')"
      ],
      "execution_count": 0,
      "outputs": []
    },
    {
      "cell_type": "markdown",
      "metadata": {
        "id": "syYT7OA2nsdg",
        "colab_type": "text"
      },
      "source": [
        "**Import all necessary packages**"
      ]
    },
    {
      "cell_type": "code",
      "metadata": {
        "id": "MKBk5_uRFGdU",
        "colab_type": "code",
        "outputId": "b2e1d23f-5240-4e72-ef30-31ecc10f6eab",
        "colab": {
          "base_uri": "https://localhost:8080/",
          "height": 80
        }
      },
      "source": [
        "import os\n",
        "import glob\n",
        "import numpy as np\n",
        "from tensorflow.keras import layers\n",
        "from tensorflow import keras \n",
        "import tensorflow as tf\n",
        "import matplotlib.pyplot as plt\n",
        "from random import randint\n",
        "import tensorflow as tf\n",
        "from PIL import Image, ImageOps\n",
        "import cv2\n",
        "from keras.preprocessing.image import img_to_array\n",
        "from keras.preprocessing.image import load_img"
      ],
      "execution_count": 3,
      "outputs": [
        {
          "output_type": "display_data",
          "data": {
            "text/html": [
              "<p style=\"color: red;\">\n",
              "The default version of TensorFlow in Colab will soon switch to TensorFlow 2.x.<br>\n",
              "We recommend you <a href=\"https://www.tensorflow.org/guide/migrate\" target=\"_blank\">upgrade</a> now \n",
              "or ensure your notebook will continue to use TensorFlow 1.x via the <code>%tensorflow_version 1.x</code> magic:\n",
              "<a href=\"https://colab.research.google.com/notebooks/tensorflow_version.ipynb\" target=\"_blank\">more info</a>.</p>\n"
            ],
            "text/plain": [
              "<IPython.core.display.HTML object>"
            ]
          },
          "metadata": {
            "tags": []
          }
        },
        {
          "output_type": "stream",
          "text": [
            "Using TensorFlow backend.\n"
          ],
          "name": "stderr"
        }
      ]
    },
    {
      "cell_type": "markdown",
      "metadata": {
        "id": "cwqAP2aWq-DH",
        "colab_type": "text"
      },
      "source": [
        "**Select 4000 (or any number) random images for each class and split data into train and test**"
      ]
    },
    {
      "cell_type": "code",
      "metadata": {
        "id": "3FC8QuIMFH2p",
        "colab_type": "code",
        "colab": {}
      },
      "source": [
        "def load_data(root, vfold_ratio=0.2, max_items_per_class = 16000):\n",
        "    all_files = glob.glob(os.path.join(root, '*.npy'))\n",
        "\n",
        "    #initialize variables \n",
        "    x = np.empty([0, 784])\n",
        "    y = np.empty([0])\n",
        "    class_names = []\n",
        "\n",
        "    #load each data file \n",
        "    for idx, file in enumerate(all_files):\n",
        "        data = np.load(file)\n",
        "        data = data[0: max_items_per_class, :]\n",
        "        labels = np.full(data.shape[0], idx)\n",
        "\n",
        "        x = np.concatenate((x, data), axis=0)\n",
        "        y = np.append(y, labels)\n",
        "\n",
        "        class_name, ext = os.path.splitext(os.path.basename(file))\n",
        "        class_names.append(class_name)\n",
        "        print(len(class_names))\n",
        "\n",
        "    data = None\n",
        "    labels = None\n",
        "    \n",
        "    ## Randomize dataset \n",
        "    permutation = np.random.permutation(y.shape[0])\n",
        "    x = x[permutation, :]\n",
        "    y = y[permutation]\n",
        "\n",
        "    #Split dataset into train and test\n",
        "    vfold_size = int(x.shape[0]/100*(vfold_ratio*100))\n",
        "\n",
        "    x_test = x[0:vfold_size, :]\n",
        "    y_test = y[0:vfold_size]\n",
        "\n",
        "    x_train = x[vfold_size:x.shape[0], :]\n",
        "    y_train = y[vfold_size:y.shape[0]]\n",
        "    return x_train, y_train, x_test, y_test, class_names"
      ],
      "execution_count": 0,
      "outputs": []
    },
    {
      "cell_type": "code",
      "metadata": {
        "id": "pSy1Fzs_FQd7",
        "colab_type": "code",
        "colab": {}
      },
      "source": [
        "x_train, y_train, x_test, y_test, class_names = load_data('data')\n",
        "num_classes = len(class_names)\n",
        "image_size = 28"
      ],
      "execution_count": 0,
      "outputs": []
    },
    {
      "cell_type": "markdown",
      "metadata": {
        "id": "vn9dvz_VrK51",
        "colab_type": "text"
      },
      "source": [
        "**Print number of classes and train images**"
      ]
    },
    {
      "cell_type": "code",
      "metadata": {
        "id": "iN0vgz3gGiwV",
        "colab_type": "code",
        "outputId": "21c8d361-175a-42db-de3d-caf80c51042a",
        "colab": {
          "base_uri": "https://localhost:8080/",
          "height": 51
        }
      },
      "source": [
        "print('Number of Classes:',num_classes)\n",
        "print('Train Images:',len(x_train))"
      ],
      "execution_count": 0,
      "outputs": [
        {
          "output_type": "stream",
          "text": [
            "Number of Classes: 100\n",
            "Train Images: 1280000\n"
          ],
          "name": "stdout"
        }
      ]
    },
    {
      "cell_type": "markdown",
      "metadata": {
        "id": "NjuKDVNwrtV5",
        "colab_type": "text"
      },
      "source": [
        "**Print random image (and its class) from training set**"
      ]
    },
    {
      "cell_type": "code",
      "metadata": {
        "id": "kc_0-oiWGxDg",
        "colab_type": "code",
        "outputId": "9b135fbc-63a6-4294-b2b0-0207eb600b50",
        "colab": {
          "base_uri": "https://localhost:8080/",
          "height": 282
        }
      },
      "source": [
        "%matplotlib inline  \n",
        "idx = randint(0, len(x_train))\n",
        "plt.imshow(x_train[idx].reshape(28,28)) \n",
        "print(class_names[int(y_train[idx].item())])"
      ],
      "execution_count": 0,
      "outputs": [
        {
          "output_type": "stream",
          "text": [
            "donut\n"
          ],
          "name": "stdout"
        },
        {
          "output_type": "display_data",
          "data": {
            "image/png": "[encoded data removed]",
            "text/plain": [
              "<Figure size 432x288 with 1 Axes>"
            ]
          },
          "metadata": {
            "tags": []
          }
        }
      ]
    },
    {
      "cell_type": "markdown",
      "metadata": {
        "id": "RdXwziDSr6ip",
        "colab_type": "text"
      },
      "source": [
        "**Reshape and normalize each train and test image to 28x28 if not already**"
      ]
    },
    {
      "cell_type": "code",
      "metadata": {
        "id": "N8TYoWVTG4WY",
        "colab_type": "code",
        "outputId": "19a4cce1-cb23-4b61-f5ec-7268599f9c47",
        "colab": {
          "base_uri": "https://localhost:8080/",
          "height": 34
        }
      },
      "source": [
        "image_size = 28\n",
        "x_train = x_train.reshape(x_train.shape[0], image_size, image_size, 1).astype('float32')\n",
        "x_test = x_test.reshape(x_test.shape[0], image_size, image_size, 1).astype('float32')\n",
        "\n",
        "x_train /= 255.0\n",
        "x_test /= 255.0\n",
        "\n",
        "# Convert class vectors to class matrices\n",
        "y_train = keras.utils.to_categorical(y_train, num_classes)\n",
        "y_test = keras.utils.to_categorical(y_test, num_classes)\n",
        "print(x_train.shape[1:])"
      ],
      "execution_count": 0,
      "outputs": [
        {
          "output_type": "stream",
          "text": [
            "(28, 28, 1)\n"
          ],
          "name": "stdout"
        }
      ]
    },
    {
      "cell_type": "markdown",
      "metadata": {
        "id": "WXqwoZVqsBn7",
        "colab_type": "text"
      },
      "source": [
        "**Define Model Architecture**"
      ]
    },
    {
      "cell_type": "code",
      "metadata": {
        "id": "PCPYXLZ_G6V2",
        "colab_type": "code",
        "outputId": "b088900e-cde0-409a-eadd-622f81625ef3",
        "colab": {
          "base_uri": "https://localhost:8080/",
          "height": 476
        }
      },
      "source": [
        "model = keras.Sequential()\n",
        "model.add(layers.Convolution2D(16, (3, 3),\n",
        "                        padding='same',\n",
        "                        input_shape=x_train.shape[1:], activation='relu'))\n",
        "model.add(layers.MaxPooling2D(pool_size=(2, 2)))\n",
        "model.add(layers.Convolution2D(32, (3, 3), padding='same', activation= 'relu'))\n",
        "model.add(layers.MaxPooling2D(pool_size=(2, 2)))\n",
        "model.add(layers.Convolution2D(64, (3, 3), padding='same', activation= 'relu'))\n",
        "model.add(layers.MaxPooling2D(pool_size =(2,2)))\n",
        "model.add(layers.Flatten())\n",
        "model.add(layers.Dense(128, activation='relu'))\n",
        "model.add(layers.Dense(100, activation='softmax'))  # The number here should be equal to number of classes\n",
        "\n",
        "opt = tf.keras.optimizers.Adam(lr=0.001)\n",
        "model.compile(loss='categorical_crossentropy',\n",
        "              optimizer=opt,\n",
        "              metrics=['top_k_categorical_accuracy'])\n",
        "print(model.summary())"
      ],
      "execution_count": 0,
      "outputs": [
        {
          "output_type": "stream",
          "text": [
            "Model: \"sequential_1\"\n",
            "_________________________________________________________________\n",
            "Layer (type)                 Output Shape              Param #   \n",
            "=================================================================\n",
            "conv2d_3 (Conv2D)            (None, 28, 28, 16)        160       \n",
            "_________________________________________________________________\n",
            "max_pooling2d_3 (MaxPooling2 (None, 14, 14, 16)        0         \n",
            "_________________________________________________________________\n",
            "conv2d_4 (Conv2D)            (None, 14, 14, 32)        4640      \n",
            "_________________________________________________________________\n",
            "max_pooling2d_4 (MaxPooling2 (None, 7, 7, 32)          0         \n",
            "_________________________________________________________________\n",
            "conv2d_5 (Conv2D)            (None, 7, 7, 64)          18496     \n",
            "_________________________________________________________________\n",
            "max_pooling2d_5 (MaxPooling2 (None, 3, 3, 64)          0         \n",
            "_________________________________________________________________\n",
            "flatten_1 (Flatten)          (None, 576)               0         \n",
            "_________________________________________________________________\n",
            "dense_2 (Dense)              (None, 128)               73856     \n",
            "_________________________________________________________________\n",
            "dense_3 (Dense)              (None, 100)               12900     \n",
            "=================================================================\n",
            "Total params: 110,052\n",
            "Trainable params: 110,052\n",
            "Non-trainable params: 0\n",
            "_________________________________________________________________\n",
            "None\n"
          ],
          "name": "stdout"
        }
      ]
    },
    {
      "cell_type": "markdown",
      "metadata": {
        "id": "Gdotnt7vsJCf",
        "colab_type": "text"
      },
      "source": [
        "**Train the model**"
      ]
    },
    {
      "cell_type": "code",
      "metadata": {
        "id": "lIIFyYZbG81y",
        "colab_type": "code",
        "outputId": "5d88425d-1b5e-4440-aaf0-5c2370cfe502",
        "colab": {
          "base_uri": "https://localhost:8080/",
          "height": 391
        }
      },
      "source": [
        "model.fit(x = x_train, y = y_train, validation_split=0.1, batch_size = 256, verbose=1, epochs=10)"
      ],
      "execution_count": 0,
      "outputs": [
        {
          "output_type": "stream",
          "text": [
            "Train on 1152000 samples, validate on 128000 samples\n",
            "Epoch 1/10\n",
            "1152000/1152000 [==============================] - 24s 21us/sample - loss: 1.3460 - top_k_categorical_accuracy: 0.8713 - val_loss: 0.9998 - val_top_k_categorical_accuracy: 0.9183\n",
            "Epoch 2/10\n",
            "1152000/1152000 [==============================] - 23s 20us/sample - loss: 0.9162 - top_k_categorical_accuracy: 0.9273 - val_loss: 0.8854 - val_top_k_categorical_accuracy: 0.9292\n",
            "Epoch 3/10\n",
            "1152000/1152000 [==============================] - 23s 20us/sample - loss: 0.8294 - top_k_categorical_accuracy: 0.9352 - val_loss: 0.8247 - val_top_k_categorical_accuracy: 0.9361\n",
            "Epoch 4/10\n",
            "1152000/1152000 [==============================] - 24s 21us/sample - loss: 0.7846 - top_k_categorical_accuracy: 0.9395 - val_loss: 0.7927 - val_top_k_categorical_accuracy: 0.9381\n",
            "Epoch 5/10\n",
            "1152000/1152000 [==============================] - 23s 20us/sample - loss: 0.7553 - top_k_categorical_accuracy: 0.9420 - val_loss: 0.7777 - val_top_k_categorical_accuracy: 0.9396\n",
            "Epoch 6/10\n",
            "1152000/1152000 [==============================] - 23s 20us/sample - loss: 0.7335 - top_k_categorical_accuracy: 0.9441 - val_loss: 0.7520 - val_top_k_categorical_accuracy: 0.9410\n",
            "Epoch 7/10\n",
            "1152000/1152000 [==============================] - 23s 20us/sample - loss: 0.7175 - top_k_categorical_accuracy: 0.9453 - val_loss: 0.7468 - val_top_k_categorical_accuracy: 0.9419\n",
            "Epoch 8/10\n",
            "1152000/1152000 [==============================] - 23s 20us/sample - loss: 0.7049 - top_k_categorical_accuracy: 0.9465 - val_loss: 0.7409 - val_top_k_categorical_accuracy: 0.9427\n",
            "Epoch 9/10\n",
            "1152000/1152000 [==============================] - 23s 20us/sample - loss: 0.6951 - top_k_categorical_accuracy: 0.9473 - val_loss: 0.7416 - val_top_k_categorical_accuracy: 0.9423\n",
            "Epoch 10/10\n",
            "1152000/1152000 [==============================] - 23s 20us/sample - loss: 0.6873 - top_k_categorical_accuracy: 0.9480 - val_loss: 0.7402 - val_top_k_categorical_accuracy: 0.9417\n"
          ],
          "name": "stdout"
        },
        {
          "output_type": "execute_result",
          "data": {
            "text/plain": [
              "<tensorflow.python.keras.callbacks.History at 0x7fdc9c5914a8>"
            ]
          },
          "metadata": {
            "tags": []
          },
          "execution_count": 25
        }
      ]
    },
    {
      "cell_type": "code",
      "metadata": {
        "id": "tGz1C7ILHMG2",
        "colab_type": "code",
        "outputId": "ca4a4a26-65ca-460d-efa9-5f05a19c425e",
        "colab": {
          "base_uri": "https://localhost:8080/",
          "height": 34
        }
      },
      "source": [
        "score = model.evaluate(x_test, y_test, verbose=0)\n",
        "print('Test accuarcy: {:0.2f}%'.format(score[1] * 100))"
      ],
      "execution_count": 0,
      "outputs": [
        {
          "output_type": "stream",
          "text": [
            "Test accuarcy: 94.29%\n"
          ],
          "name": "stdout"
        }
      ]
    },
    {
      "cell_type": "markdown",
      "metadata": {
        "id": "t9kBq83g9WNT",
        "colab_type": "text"
      },
      "source": [
        "**Use random test images to test the model**"
      ]
    },
    {
      "cell_type": "code",
      "metadata": {
        "id": "hrKVB4dyHTi_",
        "colab_type": "code",
        "outputId": "44592478-fbe1-46e6-9b20-ef013e6da1be",
        "colab": {
          "base_uri": "https://localhost:8080/",
          "height": 282
        }
      },
      "source": [
        "import matplotlib.pyplot as plt\n",
        "from random import randint\n",
        "%matplotlib inline  \n",
        "idx = randint(0, len(x_test))\n",
        "img = x_test[idx]\n",
        "plt.imshow(img.squeeze(),cmap='Greys_r') \n",
        "pred = model.predict(np.expand_dims(img, axis=0))[0]\n",
        "ind = (-pred).argsort()[:5]\n",
        "latex = [class_names[x] for x in ind]\n",
        "print(latex)"
      ],
      "execution_count": 0,
      "outputs": [
        {
          "output_type": "stream",
          "text": [
            "['sword', 'knife', 'airplane', 'baseball_bat', 'pencil']\n"
          ],
          "name": "stdout"
        },
        {
          "output_type": "display_data",
          "data": {
            "image/png": "[encoded data removed]",
            "text/plain": [
              "<Figure size 432x288 with 1 Axes>"
            ]
          },
          "metadata": {
            "tags": []
          }
        }
      ]
    },
    {
      "cell_type": "code",
      "metadata": {
        "id": "wnfDstQYHYKO",
        "colab_type": "code",
        "colab": {}
      },
      "source": [
        "with open('class_names.txt', 'w') as file_handler:\n",
        "    for item in class_names:\n",
        "        file_handler.write(\"{}\\n\".format(item))"
      ],
      "execution_count": 0,
      "outputs": []
    },
    {
      "cell_type": "code",
      "metadata": {
        "id": "u0CrQiDcHrvY",
        "colab_type": "code",
        "colab": {}
      },
      "source": [
        "model.save('keras.h5')"
      ],
      "execution_count": 0,
      "outputs": []
    },
    {
      "cell_type": "markdown",
      "metadata": {
        "id": "l_8LQwlHCYsz",
        "colab_type": "text"
      },
      "source": [
        "### **Prediction on Input image**"
      ]
    },
    {
      "cell_type": "markdown",
      "metadata": {
        "id": "K5qnIXp6-Lki",
        "colab_type": "text"
      },
      "source": [
        "**Load the Model and Class Names for predictions**"
      ]
    },
    {
      "cell_type": "code",
      "metadata": {
        "id": "6ybfXWETWzLv",
        "colab_type": "code",
        "colab": {}
      },
      "source": [
        "model = tf.keras.models.load_model('100_classes_16000_per_class.h5')\n",
        "\n",
        "class_names = ['saw', 'coffee_cup', 'power_outlet', 'microphone', 'triangle', 'cat', 'paper_clip',\n",
        "               'drums', 'diving_board', 'sun', 'scissors', 'butterfly', 'ladder', 'beard', 'helmet',\n",
        "               'bicycle', 'face', 'eye', 'syringe', 'bed', 'smiley_face', 'sword', 'door', 'spider',\n",
        "               'bridge', 'spoon', 'fan', 'cell_phone', 'donut', 'rifle', 'baseball_bat', 'camera', \n",
        "               'baseball', 'screwdriver', 'table', 'anvil', 'frying_pan', 'tree', 'chair', 'tooth',\n",
        "               'rainbow', 'bench', 'star', 'ceiling_fan', 'headphones', 'moon', 'key', 'eyeglasses',\n",
        "               'lollipop', 'cookie', 'hat', 'shorts', 'grapes', 'pencil', 'hot_dog', 'bird', 'basketball',\n",
        "               'hammer', 'radio', 't-shirt', 'pizza', 'shovel', 'flower', 'clock', 'wristwatch', 'tent',\n",
        "               'ice_cream', 'airplane', 'mushroom', 'wheel', 'bread', 'mountain', 'axe', 'stop_sign', \n",
        "               'lightning', 'car', 'laptop', 'snake', 'dumbbell', 'sock', 'cup', 'moustache', 'book', \n",
        "               'traffic_light', 'umbrella', 'line', 'suitcase', 'circle', 'candle', 'pants', 'tennis_racquet',\n",
        "               'alarm_clock', 'square', 'pillow', 'cloud', 'broom', 'knife', 'light_bulb', 'apple', 'envelope']"
      ],
      "execution_count": 0,
      "outputs": []
    },
    {
      "cell_type": "markdown",
      "metadata": {
        "id": "6MzmmBsB-OXh",
        "colab_type": "text"
      },
      "source": [
        "**Make predictions on any input image**"
      ]
    },
    {
      "cell_type": "code",
      "metadata": {
        "id": "xCxKthnCJTcP",
        "colab_type": "code",
        "outputId": "a57a4b05-17fc-4d1b-8218-e053be1eee1d",
        "colab": {
          "base_uri": "https://localhost:8080/",
          "height": 282
        }
      },
      "source": [
        "img = load_img('b.png', target_size=(28,28))\n",
        "img = ImageOps.invert(img)\n",
        "plt.imshow(img) \n",
        "img_tensor = img_to_array(img)\n",
        "\n",
        "plt.imshow(img_tensor/255)\n",
        "\n",
        "img_tensor = cv2.cvtColor(img_tensor, cv2.COLOR_BGR2GRAY) # Convert channel to 1 (grayscale)\n",
        "img_tensor = np.expand_dims(img_tensor, axis=2) # Add last channel as 1  (28,28) to (28,28,1)\n",
        "img_tensor = np.expand_dims(img_tensor, axis=0) # Add 1 more channel at start to specify number of input images (1,28,28,1)\n",
        "img_tensor /= 255. \n",
        "\n",
        "#print(img_tensor.shape)\n",
        "\n",
        "pred = model.predict(img_tensor)[0]\n",
        "ind = (-pred).argsort()[:5]\n",
        "objs = [class_names[x] for x in ind]\n",
        "print(objs)\n"
      ],
      "execution_count": 17,
      "outputs": [
        {
          "output_type": "stream",
          "text": [
            "['bed', 'bench', 'table', 'bridge', 'rainbow']\n"
          ],
          "name": "stdout"
        },
        {
          "output_type": "display_data",
          "data": {
            "image/png": "[encoded data removed]",
            "text/plain": [
              "<Figure size 432x288 with 1 Axes>"
            ]
          },
          "metadata": {
            "tags": []
          }
        }
      ]
    },
    {
      "cell_type": "code",
      "metadata": {
        "id": "vkvYgcV_I0eQ",
        "colab_type": "code",
        "colab": {
          "base_uri": "https://localhost:8080/",
          "height": 561
        },
        "outputId": "1cc1884c-1e30-441a-97a7-db4d042e8cab"
      },
      "source": [
        "!pip install lime\n",
        "import lime \n",
        "from lime import lime_image\n",
        "from skimage.segmentation import mark_boundaries"
      ],
      "execution_count": 1,
      "outputs": [
        {
          "output_type": "stream",
          "text": [
            "Collecting lime\n",
            "\u001b[?25l  Downloading https://files.pythonhosted.org/packages/b5/e0/60070b461a589b2fee0dbc45df9987f150fca83667c2f8a064cef7dbac6b/lime-0.1.1.37.tar.gz (275kB)\n",
            "\r\u001b[K     |█▏                              | 10kB 29.1MB/s eta 0:00:01\r\u001b[K     |██▍                             | 20kB 1.6MB/s eta 0:00:01\r\u001b[K     |███▋                            | 30kB 2.4MB/s eta 0:00:01\r\u001b[K     |████▊                           | 40kB 3.2MB/s eta 0:00:01\r\u001b[K     |██████                          | 51kB 2.0MB/s eta 0:00:01\r\u001b[K     |███████▏                        | 61kB 2.4MB/s eta 0:00:01\r\u001b[K     |████████▎                       | 71kB 2.8MB/s eta 0:00:01\r\u001b[K     |█████████▌                      | 81kB 3.2MB/s eta 0:00:01\r\u001b[K     |██████████▊                     | 92kB 3.5MB/s eta 0:00:01\r\u001b[K     |███████████▉                    | 102kB 2.7MB/s eta 0:00:01\r\u001b[K     |█████████████                   | 112kB 2.7MB/s eta 0:00:01\r\u001b[K     |██████████████▎                 | 122kB 2.7MB/s eta 0:00:01\r\u001b[K     |███████████████▍                | 133kB 2.7MB/s eta 0:00:01\r\u001b[K     |████████████████▋               | 143kB 2.7MB/s eta 0:00:01\r\u001b[K     |█████████████████▉              | 153kB 2.7MB/s eta 0:00:01\r\u001b[K     |███████████████████             | 163kB 2.7MB/s eta 0:00:01\r\u001b[K     |████████████████████▏           | 174kB 2.7MB/s eta 0:00:01\r\u001b[K     |█████████████████████▍          | 184kB 2.7MB/s eta 0:00:01\r\u001b[K     |██████████████████████▋         | 194kB 2.7MB/s eta 0:00:01\r\u001b[K     |███████████████████████▊        | 204kB 2.7MB/s eta 0:00:01\r\u001b[K     |█████████████████████████       | 215kB 2.7MB/s eta 0:00:01\r\u001b[K     |██████████████████████████▏     | 225kB 2.7MB/s eta 0:00:01\r\u001b[K     |███████████████████████████▎    | 235kB 2.7MB/s eta 0:00:01\r\u001b[K     |████████████████████████████▌   | 245kB 2.7MB/s eta 0:00:01\r\u001b[K     |█████████████████████████████▊  | 256kB 2.7MB/s eta 0:00:01\r\u001b[K     |██████████████████████████████▉ | 266kB 2.7MB/s eta 0:00:01\r\u001b[K     |████████████████████████████████| 276kB 2.7MB/s \n",
            "\u001b[?25hRequirement already satisfied: numpy in /usr/local/lib/python3.6/dist-packages (from lime) (1.17.5)\n",
            "Requirement already satisfied: scipy in /usr/local/lib/python3.6/dist-packages (from lime) (1.4.1)\n",
            "Collecting progressbar\n",
            "  Downloading https://files.pythonhosted.org/packages/a3/a6/b8e451f6cff1c99b4747a2f7235aa904d2d49e8e1464e0b798272aa84358/progressbar-2.5.tar.gz\n",
            "Requirement already satisfied: scikit-learn>=0.18 in /usr/local/lib/python3.6/dist-packages (from lime) (0.22.1)\n",
            "Requirement already satisfied: matplotlib in /usr/local/lib/python3.6/dist-packages (from lime) (3.1.2)\n",
            "Requirement already satisfied: scikit-image>=0.12 in /usr/local/lib/python3.6/dist-packages (from lime) (0.16.2)\n",
            "Requirement already satisfied: joblib>=0.11 in /usr/local/lib/python3.6/dist-packages (from scikit-learn>=0.18->lime) (0.14.1)\n",
            "Requirement already satisfied: cycler>=0.10 in /usr/local/lib/python3.6/dist-packages (from matplotlib->lime) (0.10.0)\n",
            "Requirement already satisfied: python-dateutil>=2.1 in /usr/local/lib/python3.6/dist-packages (from matplotlib->lime) (2.6.1)\n",
            "Requirement already satisfied: kiwisolver>=1.0.1 in /usr/local/lib/python3.6/dist-packages (from matplotlib->lime) (1.1.0)\n",
            "Requirement already satisfied: pyparsing!=2.0.4,!=2.1.2,!=2.1.6,>=2.0.1 in /usr/local/lib/python3.6/dist-packages (from matplotlib->lime) (2.4.6)\n",
            "Requirement already satisfied: imageio>=2.3.0 in /usr/local/lib/python3.6/dist-packages (from scikit-image>=0.12->lime) (2.4.1)\n",
            "Requirement already satisfied: PyWavelets>=0.4.0 in /usr/local/lib/python3.6/dist-packages (from scikit-image>=0.12->lime) (1.1.1)\n",
            "Requirement already satisfied: pillow>=4.3.0 in /usr/local/lib/python3.6/dist-packages (from scikit-image>=0.12->lime) (6.2.2)\n",
            "Requirement already satisfied: networkx>=2.0 in /usr/local/lib/python3.6/dist-packages (from scikit-image>=0.12->lime) (2.4)\n",
            "Requirement already satisfied: six in /usr/local/lib/python3.6/dist-packages (from cycler>=0.10->matplotlib->lime) (1.12.0)\n",
            "Requirement already satisfied: setuptools in /usr/local/lib/python3.6/dist-packages (from kiwisolver>=1.0.1->matplotlib->lime) (42.0.2)\n",
            "Requirement already satisfied: decorator>=4.3.0 in /usr/local/lib/python3.6/dist-packages (from networkx>=2.0->scikit-image>=0.12->lime) (4.4.1)\n",
            "Building wheels for collected packages: lime, progressbar\n",
            "  Building wheel for lime (setup.py) ... \u001b[?25l\u001b[?25hdone\n",
            "  Created wheel for lime: filename=lime-0.1.1.37-cp36-none-any.whl size=284277 sha256=74a2b627850adde3c19067ecbfbefe4c41bbb0b3eb994ad7e144a894f51db87d\n",
            "  Stored in directory: /root/.cache/pip/wheels/c1/38/e7/50d75d4fb75afa604570dc42f20c5c5f5ab26d3fbe8d6ef27b\n",
            "  Building wheel for progressbar (setup.py) ... \u001b[?25l\u001b[?25hdone\n",
            "  Created wheel for progressbar: filename=progressbar-2.5-cp36-none-any.whl size=12073 sha256=61485ce1f4d7c9cfc21ca38e3ba57129d2e99e1e4284445e284b82cf96a8ab7a\n",
            "  Stored in directory: /root/.cache/pip/wheels/c0/e9/6b/ea01090205e285175842339aa3b491adeb4015206cda272ff0\n",
            "Successfully built lime progressbar\n",
            "Installing collected packages: progressbar, lime\n",
            "Successfully installed lime-0.1.1.37 progressbar-2.5\n"
          ],
          "name": "stdout"
        }
      ]
    },
    {
      "cell_type": "code",
      "metadata": {
        "id": "eGbFvZ-kI5aG",
        "colab_type": "code",
        "colab": {}
      },
      "source": [
        "img_path='./dataset/test/sunrise/'+sun_rise[7]  ### repalce path with the path for image u want to be expalined\n",
        "img = image.load_img(img_path, target_size=(150, 150))\n",
        "img = image.img_to_array(img)/255\n",
        "\n",
        "plt.imshow(img)\n",
        "plt.title('Image')\n",
        "plt.show()\n",
        "\n",
        "img = np.expand_dims(img, axis=0)"
      ],
      "execution_count": 0,
      "outputs": []
    }
  ]
}